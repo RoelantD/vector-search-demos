{
 "cells": [
  {
   "cell_type": "code",
   "execution_count": 23,
   "metadata": {},
   "outputs": [],
   "source": [
    "import os\n",
    "from langchain.embeddings import OpenAIEmbeddings\n",
    "from langchain.vectorstores.azuresearch import AzureSearch\n",
    "\n",
    "embeddings = OpenAIEmbeddings(\n",
    "    openai_api_key=os.environ[\"OPENAI_API_KEY\"]\n",
    ")\n",
    "\n",
    "AZURE_SEARCH_SERVICE=os.environ[\"AZURE_SEARCH_SERVICE\"]\n",
    "AZURE_SEARCH_KEY=os.environ[\"AZURE_SEARCH_KEY\"]\n",
    "\n",
    "vector_store: AzureSearch = AzureSearch(\n",
    "    azure_search_endpoint=f\"https://{AZURE_SEARCH_SERVICE}.search.windows.net\",\n",
    "    azure_search_key=AZURE_SEARCH_KEY,\n",
    "    index_name=\"contoso-manuals\",\n",
    "    embedding_function=embeddings.embed_query)\n"
   ]
  },
  {
   "cell_type": "code",
   "execution_count": 24,
   "metadata": {},
   "outputs": [
    {
     "data": {
      "text/plain": [
       "['Zjg1OTIyN2UtOTdmYS00ZDk0LTgxNTgtNWMxYzE2YmVlYmIw',\n",
       " 'NmViMzE2NzgtOTViMS00ZWFiLWI3ZmEtZmI0M2Y2OWJkZGIy',\n",
       " 'MGZkZmM3ZGUtODI1ZC00ZTQyLThiOTQtMzAwMGNjMTlmNmI3',\n",
       " 'YzVjMGM2MzMtMWJlMy00ODdmLTljYTYtMzAwYjQzYTI2N2Iz',\n",
       " 'MDJjNTc4MmYtNGU1Ni00MTBkLTg2NmUtYTkwNjU1MmU5YzRl',\n",
       " 'YWEzODFmYWYtNDk1MC00Y2Q0LTg3ZjgtYmJkNTZlOGY5NTdi',\n",
       " 'NGYzOWQ4YjUtNmY1OS00N2RlLTk0MTItMzkwMmZlYzE5MTdi',\n",
       " 'ZDNjMjI2NDUtODNiNS00NGNhLWE2MjktZGNhODljOGRmNDIx',\n",
       " 'NTgzNGQ4N2YtODQzMy00Y2NkLTk5ZjItZjUxZWZlMWU4ODQy',\n",
       " 'N2FkOGM2ZmMtMmQ3ZS00MDZhLTkxZmItZmUxMzViODBhYzkw',\n",
       " 'NGJlMDAwZjgtMzdiYy00NGNkLWFkMDUtNDQ5MzExYzVlZjdh',\n",
       " 'MjFlZWNiMTUtYmZjNi00ODgxLWJhYzktNTRiYzQ2YzU1ZTM1',\n",
       " 'OWJmOGU2ZjktNTcxYi00YTlhLThlNGUtMDRiYWZmMGQ4MWQ4',\n",
       " 'OGEzYTkwNDYtZmIwMC00NmMxLThlMTctZmYyY2EwODVmOTc2',\n",
       " 'MmI3ODhkMjEtNTgyMC00MDkxLWE3YjAtMzlhMTIyZTQ5ODUx',\n",
       " 'ZjA3ZDA0MTItMzVmOC00ODlhLTgzZWQtMTk4OThhYmVjMjE5',\n",
       " 'MDM1ZDNkY2QtZWNlZS00MzZmLTk5MjItZTllYWMzYTY4MTA3',\n",
       " 'ZWJmNGM1ZjUtMzE3OS00YTllLWE2YTUtNDg2YTYwMTRmNGM0',\n",
       " 'M2Y0MzVmNWMtNmE4YS00ZDdhLWExMDMtZjFhODk5YTExYmEy',\n",
       " 'NmQ3OWY5ZjQtM2UwZC00YTJiLWJjMzUtODUwMTE2YzFhOTY2',\n",
       " 'N2YyNGMyYjAtNWM4Ni00ODA0LTg0YTctMmFmOWQxZGZkN2Rh',\n",
       " 'MGJiMmY1MTgtM2U3OS00MDQ5LTgzM2QtYWRkODQ4MWFmMzNj',\n",
       " 'MmM2OTY4ZTYtYzZjZi00OTMyLWE5YzctMmVhZDY2N2M4NTU5',\n",
       " 'NzQ2MzIzMmUtNzBhMS00M2QxLWEwZjMtMjc2YTk1NDNlNmY0',\n",
       " 'NGFlOTc2YWItMDY2ZS00YTU5LTk2ODgtYjI1OTVhMWEyYTcx',\n",
       " 'ZDc1NjdkOTYtYmZkZi00NTk2LTg4OTUtYzM2ZDI5NGFlOTZi',\n",
       " 'NWZmMGNjZGEtNWMzMS00MzJhLThmMDgtNDc2NGRhZWRkYWM5',\n",
       " 'ODIyZDJmNTktMTMxNS00ZDJlLTkwMTQtNWEzODU4MDA2YzI0',\n",
       " 'NDdiNTYxZmQtNzE5Yi00NGY5LTk0NGEtMWMzNzFjYWRhNGZi',\n",
       " 'NzQ0MWQxNmItODUwMy00YzJiLWE1YWMtMzJhZjFmNTFkYjYw',\n",
       " 'MDFlODIwMmItMGVlMy00ZDI4LTk5MWYtN2RhOGFjNzRiMTA4',\n",
       " 'MjIxMjBiNjItYmI4Yi00OTkxLWFhMjQtNjRhOGQyOGRkZGJj',\n",
       " 'Y2Q1ZDdjODEtODgzNi00ZDdkLTkwODItZGRiNjVmMmVmM2Ew',\n",
       " 'MWY3MTAyOTktMTc5MC00Y2JmLWEwZjEtMDE0MzM4YWNmMDE3',\n",
       " 'YzY3Y2IzY2UtYTI3NS00MDgxLTlkMmYtNGNkZDQ1Y2Q4ZWYz',\n",
       " 'ZTMzNzdiYTAtMDNmNS00ZWQ5LWE1MTgtY2VjM2FlMTA4ZDM1',\n",
       " 'NWYxZjFhNDAtYWQ2Mi00MDkzLTk4ZTEtZDkxOTkwY2ViNTcy',\n",
       " 'M2ZiMmVmMDAtOTc0YS00YjIxLThlYzEtOGVhNGFmNjRjYjc2',\n",
       " 'M2ZjODZkMmMtYWUxYy00ZjE1LWJiYjctYTAyYTZjNDAyYWE5',\n",
       " 'YjRkMGZmNmMtYjUyYi00MGZkLWI0MTYtMTE0ZmE3YzIzMzVk',\n",
       " 'YWRiZTljMjMtNDgwYS00OWZiLTlmMGYtZWJhNjU2ZjkyMzI0',\n",
       " 'NjI2NjRlN2ItZTM1My00NGRlLWIzYWItNmI4YTIxYjVjNGM0',\n",
       " 'NzQ4MTc1NTQtODg0NS00MzdlLTgyODktYmRhMDRiOGViZGE2',\n",
       " 'NWFkMjY0ZGItMTEwNS00NmEyLTgxYjEtZjMwYjBmMTFkODk5',\n",
       " 'MGUyMjNjOTQtMzliMy00MWQ1LWE1NTctYWJkMTYyYTU0Y2E3',\n",
       " 'MGI4NGNhMGUtZGY2OS00MDYwLWI1YTYtMWI5ZTFlZmNlZGY5',\n",
       " 'NjcyZDc2ZDMtYzQ5My00YjYxLWJlYWUtNzFlOWFjMzJlMTdl',\n",
       " 'MGNjYzI1ZDEtNTZhOC00ZTRmLWExZGMtYzhmNWQxMzMzNGU4',\n",
       " 'ODQ3MmMzYzItM2M2ZC00MmI1LWIzYzktYmI5NzY3NzljMTRj',\n",
       " 'ZDU3MDIxNjgtNzBhZC00ZTJiLWIwYzMtMDE5M2EyOTgwYjEw',\n",
       " 'YjljMjVkMTktOGMwYi00MDdiLWIxNDUtMzEwZDUxMTdlNmJh',\n",
       " 'MDcyMzA4YTEtMGJiOC00ZmU3LWI2YjgtYzA5MWI5N2M2Mjhh',\n",
       " 'MDA3ZThjODAtY2ZmZS00YjQzLThhZDAtNWE3OWIyYTllYzAx',\n",
       " 'MTgyYzcyMTAtNmY1ZC00YzQ4LTgzMDktYmQyNWNkMzhmMjY4',\n",
       " 'NzM2OWEzZmQtNWRkNS00YzE4LWI0NTEtYWEzOTljNjI3MzU0',\n",
       " 'ZTg3ZTM5NTgtZmRhZC00YWJlLWJhZDktMjU1NjJjMTE2ZTdi',\n",
       " 'Mjc2NTkwNTUtYTdjZS00M2JmLThlNGUtMGYzOGQ1MTM4ZDQ0',\n",
       " 'N2NlYjZkMjItMDE5NC00YzVhLThkMzEtYTEzZTk2ZjhlODkz',\n",
       " 'MTQ5N2JiNjgtZDc2OC00NWIzLTlhZGUtNTNlNDVmN2JjNThj',\n",
       " 'ZGU1OGJmMTMtMjM3NS00N2I4LTk5MjctZjA4YjgxNzAzZGJi',\n",
       " 'OTBmODc5MTItOGM4NC00YjdjLWJhNzYtNzQ5MTkwMjdjYjE1',\n",
       " 'OWQ3OWY0MDAtNmQzNi00YmQ4LWFkZTEtYzQ3MDZjMDk1NDJh',\n",
       " 'NGNmOGQ0MzUtNTQzMS00OGNmLWI2NWYtYzk5MDg0ZDMwODFk',\n",
       " 'MDMxYTJhZDUtYTQ4Mi00NGZmLTk3MDYtOTYwZmIyMDI5Nzll',\n",
       " 'NmVhN2YyMGYtMGE3ZC00Y2FjLWEyMzEtZWQ1N2YxM2Y4Mzg2',\n",
       " 'YWE2YmFlNTAtMTJiZi00MjJlLTk2MzktN2QzNjJlYWRlMzkx',\n",
       " 'OWFhYWI2NjEtYzdlNy00YTc2LWE0NDMtZjk0ZjQxMTlmZDgz',\n",
       " 'MTIwODllMTctMGU0ZS00MDhjLTlmNmQtZjEyZjU5NTJmMDUx',\n",
       " 'YmVkZmFlNTctOGM1Yi00YWMwLWEyMWItYzY2Mzk2ZjA3MDRl',\n",
       " 'N2U3MGU5OGYtMjA1NC00YjMzLWFjOTQtNDdlMDdlNzhkY2M2',\n",
       " 'OGNiZjE4MGQtMzVlYS00YjUxLTg2ZTAtYWJhODljOGUwMTIw',\n",
       " 'MWVjZDgzMmEtN2QxMy00OTVmLTgwMTgtOGI2YTU1MGQxMTNl']"
      ]
     },
     "execution_count": 24,
     "metadata": {},
     "output_type": "execute_result"
    }
   ],
   "source": [
    "from langchain.document_loaders import DirectoryLoader, TextLoader\n",
    "from langchain.text_splitter import CharacterTextSplitter\n",
    "\n",
    "loader = DirectoryLoader(path=\"./manuals\", glob=\"*.md\", loader_cls=TextLoader)\n",
    "documents = loader.load()\n",
    "text_splitter = CharacterTextSplitter()\n",
    "docs=text_splitter.split_documents(documents)\n",
    "vector_store.add_documents(documents=docs)"
   ]
  },
  {
   "cell_type": "code",
   "execution_count": 25,
   "metadata": {},
   "outputs": [],
   "source": [
    "from langchain.chains import RetrievalQA\n",
    "from langchain.llms import OpenAI\n",
    "\n",
    "qa = RetrievalQA.from_chain_type(OpenAI(), chain_type=\"stuff\", retriever=vector_store.as_retriever())"
   ]
  },
  {
   "cell_type": "code",
   "execution_count": 26,
   "metadata": {},
   "outputs": [
    {
     "data": {
      "text/plain": [
       "{'query': 'what is the best tent for hard winds?',\n",
       " 'result': ' The best tent for hard winds would likely be the Alpine Explorer Tent, as it has a high peak height, aluminum poles, and reflective guy lines for added stability and wind resistance. However, it is always important to properly secure any tent in high winds to prevent damage.'}"
      ]
     },
     "execution_count": 26,
     "metadata": {},
     "output_type": "execute_result"
    }
   ],
   "source": [
    "qa(\"what is the best tent for hard winds?\")"
   ]
  }
 ],
 "metadata": {
  "kernelspec": {
   "display_name": "Python 3",
   "language": "python",
   "name": "python3"
  },
  "language_info": {
   "codemirror_mode": {
    "name": "ipython",
    "version": 3
   },
   "file_extension": ".py",
   "mimetype": "text/x-python",
   "name": "python",
   "nbconvert_exporter": "python",
   "pygments_lexer": "ipython3",
   "version": "3.12.2"
  }
 },
 "nbformat": 4,
 "nbformat_minor": 2
}
