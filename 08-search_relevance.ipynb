{
 "cells": [
  {
   "cell_type": "markdown",
   "metadata": {},
   "source": [
    "### Setup"
   ]
  },
  {
   "cell_type": "code",
   "execution_count": null,
   "metadata": {},
   "outputs": [],
   "source": [
    "import os\n",
    "\n",
    "import azure.identity\n",
    "import dotenv\n",
    "import openai\n",
    "\n",
    "import warnings\n",
    "warnings.filterwarnings('ignore')\n",
    "\n",
    "from azure.search.documents import SearchClient\n",
    "from azure.search.documents.models import VectorizedQuery\n",
    "\n",
    "dotenv.load_dotenv()\n",
    "\n",
    "azure_credential = azure.identity.DefaultAzureCredential()\n",
    "\n",
    "# Initialize Azure OpenAI client\n",
    "AZURE_OPENAI_SERVICE = os.getenv(\"AZURE_OPENAI_API_ENDPOINT\")\n",
    "AZURE_OPENAI_ADA_DEPLOYMENT = os.getenv(\"AZURE_OPENAI_ADA_DEPLOYMENT\")\n",
    "\n",
    "token_provider = azure.identity.get_bearer_token_provider(azure_credential, \"https://cognitiveservices.azure.com/.default\")\n",
    "openai_client = openai.AzureOpenAI(\n",
    "    api_version=\"2023-07-01-preview\",\n",
    "    azure_endpoint=f\"https://{AZURE_OPENAI_SERVICE}.openai.azure.com\",\n",
    "    azure_ad_token_provider=token_provider)\n",
    "\n",
    "def get_embedding(text):\n",
    "    get_embeddings_response = openai_client.embeddings.create(model=AZURE_OPENAI_ADA_DEPLOYMENT, input=text)\n",
    "    return get_embeddings_response.data[0].embedding\n",
    "\n",
    "# Initialize Azure search client\n",
    "AZURE_SEARCH_SERVICE = os.getenv(\"AZURE_SEARCH_SERVICE\")\n",
    "AZURE_SEARCH_ENDPOINT = f\"https://{AZURE_SEARCH_SERVICE}.search.windows.net\"\n",
    "\n",
    "AZURE_SEARCH_FULL_INDEX = \"gptkbindex\"\n",
    "search_client = SearchClient(AZURE_SEARCH_ENDPOINT, AZURE_SEARCH_FULL_INDEX, credential=azure_credential)\n"
   ]
  },
  {
   "cell_type": "markdown",
   "metadata": {},
   "source": [
    "#### Vector search is not always optimal\n",
    "\n",
    "For example, consider searches for exact strings."
   ]
  },
  {
   "cell_type": "code",
   "execution_count": null,
   "metadata": {},
   "outputs": [],
   "source": [
    "search_query = \"$45.00\"\n",
    "search_vector = get_embedding(search_query)\n",
    "r = search_client.search(\n",
    "    None, \n",
    "    top=3, \n",
    "    vector_queries=[\n",
    "        VectorizedQuery(vector=search_vector,k_nearest_neighbors=50, fields=\"embedding\")]\n",
    "    )\n",
    "for doc in r:\n",
    "    found_content = \"Not found\"\n",
    "    if search_query in doc['content']:\n",
    "        found_content = doc['content'][doc['content'].find(search_query):].replace(\"\\n\", \" \")\n",
    "    print(f\"Score: {doc['@search.score']:.5f}\\tMatching text: {found_content}\")"
   ]
  },
  {
   "cell_type": "markdown",
   "metadata": {},
   "source": [
    "Compare to a text search for same query:"
   ]
  },
  {
   "cell_type": "code",
   "execution_count": null,
   "metadata": {},
   "outputs": [],
   "source": [
    "r = search_client.search(search_query, top=3)\n",
    "for doc in r:\n",
    "    found_content = \"Not found\"\n",
    "    if search_query in doc['content']:\n",
    "        found_content = doc['content'][doc['content'].find(search_query):].replace(\"\\n\", \" \")\n",
    "    print(f\"Score: {doc['@search.score']:.5f}\\tMatching text: {found_content}\")"
   ]
  },
  {
   "cell_type": "markdown",
   "metadata": {},
   "source": [
    "#### Hybrid retrieval\n",
    "\n",
    "Uses RRF to combine vector and text results."
   ]
  },
  {
   "cell_type": "code",
   "execution_count": null,
   "metadata": {},
   "outputs": [],
   "source": [
    "search_vector = get_embedding(search_query)\n",
    "r = search_client.search(\n",
    "    search_query, \n",
    "    top=15, \n",
    "    vector_queries=[\n",
    "        VectorizedQuery(vector=search_vector, k_nearest_neighbors=10, fields=\"embedding\")]\n",
    "    )\n",
    "for doc in r:\n",
    "    found_content = \"Not found\"\n",
    "    if search_query in doc['content']:\n",
    "        found_content = doc['content'][doc['content'].find(search_query):].replace(\"\\n\", \" \")\n",
    "    print(f\"Score: {doc['@search.score']:.5f}\\tMatching text: {found_content}\")"
   ]
  },
  {
   "cell_type": "markdown",
   "metadata": {},
   "source": [
    "#### Hybrid ranking is not always optimal"
   ]
  },
  {
   "cell_type": "code",
   "execution_count": null,
   "metadata": {},
   "outputs": [],
   "source": [
    "search_query = \"learning about underwater activities\"\n",
    "search_vector = get_embedding(search_query)\n",
    "r = search_client.search(\n",
    "    search_query, \n",
    "    top=5, \n",
    "    vector_queries=[\n",
    "        VectorizedQuery(vector=search_vector, k_nearest_neighbors=10, fields=\"embedding\")]\n",
    "    )\n",
    "for doc in r:\n",
    "    content = doc[\"content\"].replace(\"\\n\", \" \")[:150]\n",
    "    print(f\"Score: {doc['@search.score']:.5f}\\t\\tContent: {content}\")"
   ]
  },
  {
   "cell_type": "markdown",
   "metadata": {},
   "source": [
    "#### Hybrid + semantic reranking 🎉"
   ]
  },
  {
   "cell_type": "code",
   "execution_count": null,
   "metadata": {},
   "outputs": [],
   "source": [
    "search_query = \"learning about underwater activities\"\n",
    "search_vector = get_embedding(search_query)\n",
    "r = search_client.search(\n",
    "        search_query,\n",
    "        top=5, \n",
    "        vector_queries=[\n",
    "                VectorizedQuery(vector=search_vector, k_nearest_neighbors=50, fields=\"embedding\")],\n",
    "        query_type=\"semantic\",\n",
    "        semantic_configuration_name=\"default\")\n",
    "\n",
    "for doc in r:\n",
    "    content = doc[\"content\"].replace(\"\\n\", \" \")[:150]\n",
    "    print(f\"Score: {doc['@search.score']:.5f}\\tReranker: {doc['@search.reranker_score']:.5f}\\tContent: {content}\")"
   ]
  }
 ],
 "metadata": {
  "kernelspec": {
   "display_name": "Python 3",
   "language": "python",
   "name": "python3"
  },
  "language_info": {
   "codemirror_mode": {
    "name": "ipython",
    "version": 3
   },
   "file_extension": ".py",
   "mimetype": "text/x-python",
   "name": "python",
   "nbconvert_exporter": "python",
   "pygments_lexer": "ipython3",
   "version": "3.12.2"
  },
  "orig_nbformat": 4
 },
 "nbformat": 4,
 "nbformat_minor": 2
}
