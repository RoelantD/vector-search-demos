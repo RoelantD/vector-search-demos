{
 "cells": [
  {
   "cell_type": "markdown",
   "metadata": {},
   "source": [
    "### Setup"
   ]
  },
  {
   "cell_type": "code",
   "execution_count": null,
   "metadata": {},
   "outputs": [],
   "source": [
    "import json\n",
    "import os\n",
    "\n",
    "import azure.identity\n",
    "import dotenv\n",
    "import numpy as np\n",
    "import openai\n",
    "import pandas as pd\n",
    "\n",
    "import warnings\n",
    "warnings.filterwarnings('ignore')\n",
    "\n",
    "# Set up OpenAI client based on environment variables\n",
    "dotenv.load_dotenv()\n",
    "AZURE_OPENAI_SERVICE = os.getenv(\"AZURE_OPENAI_API_ENDPOINT\")\n",
    "AZURE_OPENAI_ADA_DEPLOYMENT = os.getenv(\"AZURE_OPENAI_ADA_DEPLOYMENT\")\n",
    "\n",
    "azure_credential = azure.identity.DefaultAzureCredential()\n",
    "token_provider = azure.identity.get_bearer_token_provider(azure_credential,\n",
    "    \"https://cognitiveservices.azure.com/.default\")\n",
    "openai_client = openai.AzureOpenAI(\n",
    "    api_version=\"2024-02-01\",\n",
    "    azure_endpoint=f\"https://{AZURE_OPENAI_SERVICE}.openai.azure.com\",\n",
    "    azure_ad_token_provider=token_provider)\n",
    "\n",
    "def get_embedding(text):\n",
    "    get_embeddings_response = openai_client.embeddings.create(model=AZURE_OPENAI_ADA_DEPLOYMENT, input=text)\n",
    "    return get_embeddings_response.data[0].embedding\n",
    "    \n",
    "def get_embeddings(sentences):\n",
    "    embeddings_response = openai_client.embeddings.create(model=AZURE_OPENAI_ADA_DEPLOYMENT, input=sentences)\n",
    "    return [embedding_object.embedding for embedding_object in embeddings_response.data]\n"
   ]
  },
  {
   "cell_type": "markdown",
   "metadata": {},
   "source": [
    "### Vector representations"
   ]
  },
  {
   "cell_type": "code",
   "execution_count": null,
   "metadata": {},
   "outputs": [],
   "source": [
    "# optimal size to embed is ~512 tokens\n",
    "vector = get_embedding(\"dog\") # 8192 tokens limit\n",
    "\n",
    "vector"
   ]
  },
  {
   "cell_type": "code",
   "execution_count": null,
   "metadata": {},
   "outputs": [],
   "source": [
    "len(vector)"
   ]
  },
  {
   "cell_type": "markdown",
   "metadata": {},
   "source": [
    "### Vector comparison\n",
    "\n",
    "Pamela Fox created this very helpful vector comparison tool: https://pamelafox.github.io/vectors-comparison/\n",
    "\n",
    "**-> Presentation**"
   ]
  },
  {
   "cell_type": "markdown",
   "metadata": {},
   "source": [
    "### Document similarity modeled as cosine distance"
   ]
  },
  {
   "cell_type": "code",
   "execution_count": null,
   "metadata": {},
   "outputs": [],
   "source": [
    "def cosine_similarity(a, b):\n",
    "    return np.dot(a, b) / (np.linalg.norm(a) * np.linalg.norm(b))\n",
    "\n",
    "sentences1 = ['The new movie is awesome',\n",
    "             'The new movie is awesome',\n",
    "             'The new movie is awesome']\n",
    "\n",
    "sentences2 = ['djkshs6jdksdfsdfhfsjdfkhsd',\n",
    "              'This recent movie is so good',\n",
    "              'The new movie is awesome']\n",
    "\n",
    "embeddings1 = get_embeddings(sentences1)\n",
    "embeddings2 = get_embeddings(sentences2)\n",
    "\n",
    "for i in range(len(sentences1)):\n",
    "    print(f\"{sentences1[i]} \\t\\t {sentences2[i]} \\t\\t Score: {cosine_similarity(embeddings1[i], embeddings2[i]):.4f}\")"
   ]
  },
  {
   "cell_type": "markdown",
   "metadata": {},
   "source": [
    "### Vector search"
   ]
  },
  {
   "cell_type": "code",
   "execution_count": null,
   "metadata": {},
   "outputs": [],
   "source": [
    "# Load in vectors for movie titles\n",
    "with open('openai_movies.json') as json_file:\n",
    "    movie_vectors = json.load(json_file)"
   ]
  },
  {
   "cell_type": "code",
   "execution_count": null,
   "metadata": {},
   "outputs": [],
   "source": [
    "# Compute vector for query\n",
    "# The Rock\n",
    "# Air Bud\n",
    "# Poltergeist\n",
    "query = \"Air Bud\" \n",
    "\n",
    "embeddings_response = openai_client.embeddings.create(model=AZURE_OPENAI_ADA_DEPLOYMENT, input=[query])\n",
    "vector = embeddings_response.data[0].embedding\n",
    "\n",
    "# Compute cosine similarity between query and each movie title\n",
    "scores = []\n",
    "for movie in movie_vectors:\n",
    "    scores.append((movie, cosine_similarity(vector, movie_vectors[movie])))\n",
    "\n",
    "# Display the top 10 results\n",
    "df = pd.DataFrame(scores, columns=['Movie', 'Score'])\n",
    "df = df.sort_values('Score', ascending=False)\n",
    "df.head(10)"
   ]
  }
 ],
 "metadata": {
  "kernelspec": {
   "display_name": "Python 3",
   "language": "python",
   "name": "python3"
  },
  "language_info": {
   "codemirror_mode": {
    "name": "ipython",
    "version": 3
   },
   "file_extension": ".py",
   "mimetype": "text/x-python",
   "name": "python",
   "nbconvert_exporter": "python",
   "pygments_lexer": "ipython3",
   "version": "3.12.0"
  },
  "orig_nbformat": 4
 },
 "nbformat": 4,
 "nbformat_minor": 2
}
