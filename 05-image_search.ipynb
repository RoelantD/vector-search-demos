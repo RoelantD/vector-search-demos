{
 "cells": [
  {
   "cell_type": "markdown",
   "metadata": {},
   "source": [
    "### Setup"
   ]
  },
  {
   "cell_type": "code",
   "execution_count": null,
   "metadata": {},
   "outputs": [],
   "source": [
    "import os\n",
    "\n",
    "import dotenv\n",
    "from azure.identity import DefaultAzureCredential, get_bearer_token_provider\n",
    "from azure.search.documents import SearchClient\n",
    "from azure.search.documents.indexes import SearchIndexClient\n",
    "from azure.search.documents.indexes.models import (\n",
    "    HnswAlgorithmConfiguration,\n",
    "    HnswParameters,\n",
    "    SearchField,\n",
    "    SearchFieldDataType,\n",
    "    SearchIndex,\n",
    "    SimpleField,\n",
    "    VectorSearch,\n",
    "    VectorSearchAlgorithmKind,\n",
    "    VectorSearchProfile,\n",
    ")\n",
    "from azure.search.documents.models import VectorizedQuery\n",
    "\n",
    "dotenv.load_dotenv()\n",
    "\n",
    "AZURE_SEARCH_SERVICE = os.getenv(\"AZURE_SEARCH_SERVICE\")\n",
    "AZURE_SEARCH_ENDPOINT = f\"https://{AZURE_SEARCH_SERVICE}.search.windows.net\"\n",
    "AZURE_SEARCH_IMAGES_INDEX = \"images-index4\"\n",
    "azure_credential = DefaultAzureCredential(exclude_shared_token_cache_credential=True)\n",
    "search_client = SearchClient(AZURE_SEARCH_ENDPOINT, AZURE_SEARCH_IMAGES_INDEX, credential=azure_credential)\n",
    "\n",
    "delete_client = SearchIndexClient(endpoint=AZURE_SEARCH_ENDPOINT, credential=azure_credential)\n",
    "delete_client.delete_index(AZURE_SEARCH_IMAGES_INDEX)"
   ]
  },
  {
   "cell_type": "markdown",
   "metadata": {},
   "source": [
    "### Create search index for images"
   ]
  },
  {
   "cell_type": "code",
   "execution_count": null,
   "metadata": {},
   "outputs": [],
   "source": [
    "index = SearchIndex(\n",
    "    name=AZURE_SEARCH_IMAGES_INDEX, \n",
    "    fields=[\n",
    "        SimpleField(name=\"id\", type=SearchFieldDataType.String, key=True),\n",
    "        SimpleField(name=\"filename\", type=SearchFieldDataType.String),\n",
    "        SearchField(name=\"embedding\", \n",
    "                    type=SearchFieldDataType.Collection(SearchFieldDataType.Single), \n",
    "                    searchable=True, \n",
    "                    vector_search_dimensions=1024,\n",
    "                    vector_search_profile_name=\"embedding_profile\")\n",
    "    ],\n",
    "    vector_search=VectorSearch(\n",
    "        algorithms=[HnswAlgorithmConfiguration(\n",
    "                            name=\"hnsw_config\",\n",
    "                            kind=VectorSearchAlgorithmKind.HNSW,\n",
    "                            parameters=HnswParameters(metric=\"cosine\"),\n",
    "                        )],\n",
    "        profiles=[VectorSearchProfile(name=\"embedding_profile\", algorithm_configuration_name=\"hnsw_config\")]\n",
    "    )\n",
    ")\n",
    "\n",
    "index_client = SearchIndexClient(endpoint=AZURE_SEARCH_ENDPOINT, credential=azure_credential)\n",
    "index_client.create_index(index)"
   ]
  },
  {
   "cell_type": "markdown",
   "metadata": {},
   "source": [
    "### Configure Azure Computer Vision multi-modal embeddings API "
   ]
  },
  {
   "cell_type": "code",
   "execution_count": null,
   "metadata": {},
   "outputs": [],
   "source": [
    "import mimetypes\n",
    "import os\n",
    "\n",
    "import requests\n",
    "from PIL import Image\n",
    "\n",
    "token_provider = get_bearer_token_provider(azure_credential, \"https://cognitiveservices.azure.com/.default\")\n",
    "AZURE_COMPUTERVISION_SERVICE = os.getenv(\"AZURE_COMPUTERVISION_SERVICE\")\n",
    "AZURE_COMPUTER_VISION_URL = f\"https://{AZURE_COMPUTERVISION_SERVICE}.cognitiveservices.azure.com/computervision/retrieval\"\n",
    "\n",
    "def get_model_params():\n",
    "    return {\"api-version\": \"2023-02-01-preview\", \"modelVersion\": \"latest\"}\n",
    "\n",
    "def get_auth_headers():\n",
    "    return {\"Authorization\": \"Bearer \" + token_provider()}\n",
    "\n",
    "def get_image_embedding(image_file):\n",
    "    mimetype = mimetypes.guess_type(image_file)[0]\n",
    "    url = f\"{AZURE_COMPUTER_VISION_URL}:vectorizeImage\"\n",
    "    headers = get_auth_headers()\n",
    "    headers[\"Content-Type\"] = mimetype\n",
    "    # add error checking\n",
    "    response = requests.post(url, headers=headers, params=get_model_params(), data=open(image_file, \"rb\"))\n",
    "    if response.status_code != 200:\n",
    "        print(image_file, response.status_code, response.json())\n",
    "    return response.json()[\"vector\"]\n",
    "\n",
    "def get_text_embedding(text):\n",
    "    url = f\"{AZURE_COMPUTER_VISION_URL}:vectorizeText\"\n",
    "    return requests.post(url, headers=get_auth_headers(), params=get_model_params(),\n",
    "                         json={\"text\": text}).json()[\"vector\"]"
   ]
  },
  {
   "cell_type": "markdown",
   "metadata": {},
   "source": [
    "### Add image vectors to search index"
   ]
  },
  {
   "cell_type": "code",
   "execution_count": null,
   "metadata": {},
   "outputs": [],
   "source": [
    "for image_file in os.listdir(\"product_images\"):\n",
    "    image_embedding = get_image_embedding(f\"product_images/{image_file}\")\n",
    "    search_client.upload_documents(documents=[{\n",
    "        \"id\": image_file.split(\".\")[0],\n",
    "        \"filename\": image_file,\n",
    "        \"embedding\": image_embedding}])"
   ]
  },
  {
   "cell_type": "markdown",
   "metadata": {},
   "source": [
    "### Query using an image"
   ]
  },
  {
   "cell_type": "code",
   "execution_count": null,
   "metadata": {},
   "outputs": [],
   "source": [
    "query_image = \"query_images/tealightsand_side.jpg\"\n",
    "Image.open(query_image)"
   ]
  },
  {
   "cell_type": "code",
   "execution_count": null,
   "metadata": {},
   "outputs": [],
   "source": [
    "query_vector = get_image_embedding(query_image)\n",
    "\n",
    "r = search_client.search(None, vector_queries=[\n",
    "    VectorizedQuery(vector=query_vector, k_nearest_neighbors=3, fields=\"embedding\")])\n",
    "all = [doc[\"filename\"] for doc in r]\n",
    "for filename in all:\n",
    "    print(filename)"
   ]
  },
  {
   "cell_type": "code",
   "execution_count": null,
   "metadata": {},
   "outputs": [],
   "source": [
    "print(query_vector)"
   ]
  },
  {
   "cell_type": "code",
   "execution_count": null,
   "metadata": {},
   "outputs": [],
   "source": [
    "Image.open(\"product_images/\" + all[0])"
   ]
  },
  {
   "cell_type": "code",
   "execution_count": null,
   "metadata": {},
   "outputs": [],
   "source": [
    "query_vector = get_text_embedding(\"lion king\")\n",
    "r = search_client.search(None, vector_queries=[\n",
    "    VectorizedQuery(vector=query_vector, k_nearest_neighbors=3, fields=\"embedding\")])\n",
    "all = [doc[\"filename\"] for doc in r]\n",
    "for filename in all:\n",
    "    print(filename)"
   ]
  },
  {
   "cell_type": "code",
   "execution_count": null,
   "metadata": {},
   "outputs": [],
   "source": [
    "Image.open(\"product_images/\" + all[0])"
   ]
  }
 ],
 "metadata": {
  "kernelspec": {
   "display_name": ".venv",
   "language": "python",
   "name": "python3"
  },
  "language_info": {
   "codemirror_mode": {
    "name": "ipython",
    "version": 3
   },
   "file_extension": ".py",
   "mimetype": "text/x-python",
   "name": "python",
   "nbconvert_exporter": "python",
   "pygments_lexer": "ipython3",
   "version": "3.12.2"
  }
 },
 "nbformat": 4,
 "nbformat_minor": 2
}
